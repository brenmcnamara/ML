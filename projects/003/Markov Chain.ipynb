{
 "cells": [
  {
   "cell_type": "markdown",
   "metadata": {},
   "source": [
    "# Markov Chain\n",
    "\n",
    "This exercise is from the Linear Algebra textbook, *Linear Algebra, Gateway to Mathematics*, originally published in 1994. The problem is defined as Exercise 2 of Section 5.4.\n",
    "\n",
    "## Random Walk\n",
    "\n",
    "*The random walk on a line is a classical example of an absorbing Markov chain. Suppose a particle moves among the positions 1, 2, 3, 4, and 5 arranged along a line. From positions 2, 3, and 4 the particle moves one position to the left with probability 1/2 and moves on position to the right with probability 1/2. Positions 1 and 5 are absorbing: once the particle reaches either of these positions, it remains in that position forever.*\n",
    "\n",
    "\n",
    "## Problem\n",
    "\n",
    "*Write a computer program to simulate the random walk discussed in this section. Have the program repeat the walk a large number of times and print out the average number of visits to the non-absorbing states as well as the average number of steps until absorption. Compare the results of the algorithm to the theoretical results obtained in this section.*"
   ]
  },
  {
   "cell_type": "markdown",
   "metadata": {},
   "source": [
    "## Simulation"
   ]
  },
  {
   "cell_type": "code",
   "execution_count": 7,
   "metadata": {},
   "outputs": [],
   "source": [
    "import math\n",
    "import numpy as np"
   ]
  },
  {
   "cell_type": "code",
   "execution_count": 10,
   "metadata": {},
   "outputs": [],
   "source": [
    "def create_start_positions(m):\n",
    "    \"\"\"\n",
    "    Create n random start positions. The start positions\n",
    "    should all be starting from a non-absorbing state.\n",
    "    \"\"\"\n",
    "    start_positions = np.floor(np.random.rand(m) * 3 + 2)\n",
    "    return start_positions\n",
    "        "
   ]
  },
  {
   "cell_type": "code",
   "execution_count": 15,
   "metadata": {},
   "outputs": [],
   "source": [
    "def simulate_walk(start_positions, n):\n",
    "    \"\"\"\n",
    "    Run a simulation of the random walk described above run\n",
    "    this simulation across all the starting positions given.\n",
    "    The random walk is run n times.\n",
    "\n",
    "    Returns a list of numbers, each representing the number of\n",
    "    steps a particle took before entering an absorted state.\n",
    "    If a particle, after n passes, was never absorted, then\n",
    "    the number of steps will be n for that particle.\n",
    "    \"\"\"\n",
    "    \n",
    "    m = len(start_positions)\n",
    "\n",
    "    current_positions = np.array([p for p in start_positions])\n",
    "    step_counts = np.zeros_like(current_positions)\n",
    "    \n",
    "    for i in range(n):\n",
    "        # Don't let particles that are absorbed take a step.\n",
    "        not_absorbed_mask = ((current_positions != 1) & (current_positions != 5)).astype(float)\n",
    "\n",
    "        random_step = ((np.random.rand(m) >= 0.5).astype(float) * 2) - 1\n",
    "        random_step = random_step * not_absorbed_mask\n",
    "        \n",
    "        current_positions = current_positions + random_step\n",
    "        \n",
    "        increment = np.ones_like(current_positions) * not_absorbed_mask\n",
    "        step_counts = step_counts + increment\n",
    "        \n",
    "    return step_counts\n",
    "    \n",
    "    "
   ]
  },
  {
   "cell_type": "code",
   "execution_count": 36,
   "metadata": {},
   "outputs": [
    {
     "data": {
      "text/plain": [
       "3.386"
      ]
     },
     "execution_count": 36,
     "metadata": {},
     "output_type": "execute_result"
    }
   ],
   "source": [
    "# Running the simulation\n",
    "particle_positions = create_start_positions(1000)\n",
    "step_counts = simulate_walk(particle_positions, n=100000)\n",
    "\n",
    "np.mean(step_counts)"
   ]
  },
  {
   "cell_type": "markdown",
   "metadata": {},
   "source": [
    "## Theoretical\n",
    "\n",
    "We will use the *Fundamental Matrix of aborbing Markov chains* to calculate the expected number of steps from any non-aborbing state."
   ]
  },
  {
   "cell_type": "code",
   "execution_count": 37,
   "metadata": {},
   "outputs": [
    {
     "data": {
      "text/plain": [
       "3.3333333333333335"
      ]
     },
     "execution_count": 37,
     "metadata": {},
     "output_type": "execute_result"
    }
   ],
   "source": [
    "# Step 1: Define the Markov Matrix. Note that the aborbing\n",
    "# states are set to be the first 2 rows / columns of the\n",
    "# matrix.\n",
    "\n",
    "markov_matrix = np.array([[1., 0., .5, 0., 0.],\n",
    "                          [0., 1., 0., 0., .5],\n",
    "                          [0., 0., 0., .5, 0.],\n",
    "                          [0., 0., .5, 0., .5],\n",
    "                          [0., 0., 0., .5, 0.]])\n",
    "\n",
    "# Step 2: Using the markov matrix, extract the transition\n",
    "# matrix between non-aborbing steps.\n",
    "\n",
    "na_transition_matrix = markov_matrix[2:, 2:]\n",
    "\n",
    "# Step 3: From the non-absorbing transition matrix,\n",
    "# calculate the fundamental matrix.\n",
    "fundamental_matrix = np.linalg.inv(np.eye(na_transition_matrix.shape[0]) - na_transition_matrix)\n",
    "\n",
    "# Step 4: The sum of entries in column i of the fundamental\n",
    "# matrix contains the expected number of steps before a\n",
    "# particle starting at position i reaches an absorbing state.\n",
    "# We are assuming that a particle starts at any position\n",
    "# with equal probability, so by averaging the sum of the columns,\n",
    "# we get the overall expected number of steps before a particle\n",
    "# reaches an absorbing state.\n",
    "expected_step_count = np.mean(np.sum(fundamental_matrix, axis=0))\n",
    "\n",
    "expected_step_count"
   ]
  },
  {
   "cell_type": "code",
   "execution_count": null,
   "metadata": {},
   "outputs": [],
   "source": []
  }
 ],
 "metadata": {
  "kernelspec": {
   "display_name": "Python 3",
   "language": "python",
   "name": "python3"
  },
  "language_info": {
   "codemirror_mode": {
    "name": "ipython",
    "version": 3
   },
   "file_extension": ".py",
   "mimetype": "text/x-python",
   "name": "python",
   "nbconvert_exporter": "python",
   "pygments_lexer": "ipython3",
   "version": "3.7.4"
  }
 },
 "nbformat": 4,
 "nbformat_minor": 2
}
