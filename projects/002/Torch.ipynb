{
 "cells": [
  {
   "cell_type": "markdown",
   "metadata": {},
   "source": [
    "# Learning the Gaussian Curve\n",
    "\n",
    "This is an implementation of a Gaussian Curve Model, using the Pytorch framework."
   ]
  },
  {
   "cell_type": "code",
   "execution_count": 86,
   "metadata": {},
   "outputs": [],
   "source": [
    "import math\n",
    "import matplotlib.pyplot as plt\n",
    "import numpy as np\n",
    "import torch\n",
    "import torch.nn as nn\n",
    "import torch.nn.functional as F\n",
    "\n",
    "from torch.utils.data import DataLoader, TensorDataset\n"
   ]
  },
  {
   "cell_type": "code",
   "execution_count": 87,
   "metadata": {},
   "outputs": [
    {
     "data": {
      "text/plain": [
       "'1.3.1'"
      ]
     },
     "execution_count": 87,
     "metadata": {},
     "output_type": "execute_result"
    }
   ],
   "source": [
    "torch.__version__"
   ]
  },
  {
   "cell_type": "markdown",
   "metadata": {},
   "source": [
    "## Defining a Gaussian Curve"
   ]
  },
  {
   "cell_type": "code",
   "execution_count": 88,
   "metadata": {},
   "outputs": [],
   "source": [
    "def create_gaussian_curve(mean, variance, delta=0.2):\n",
    "    std = math.sqrt(variance)\n",
    "    normalize = 1 / (std * math.sqrt(2 * 3.14159))\n",
    "\n",
    "    def gaussian_curve(x, y):\n",
    "        term = (x - mean) / std\n",
    "        expected = normalize * np.exp(-1/2 * term * term)\n",
    "        return 1 if abs(expected - y) <= delta else 0\n",
    "    \n",
    "    return gaussian_curve\n"
   ]
  },
  {
   "cell_type": "markdown",
   "metadata": {},
   "source": [
    "## Generating Data"
   ]
  },
  {
   "cell_type": "code",
   "execution_count": 89,
   "metadata": {},
   "outputs": [],
   "source": [
    "# We don't want the number of negative samples to overwhelm the\n",
    "# number of positive examples since this can adversly affect the\n",
    "# ability of the model to learn. Will downsample the dominant\n",
    "# class.\n",
    "\n",
    "# Note: c is a param that reduces the harshness of downsampling.\n",
    "# When c == 1.0, downsampling approximately equalizes the positive\n",
    "# and negative samples. As c gets larger, the dominant class\n",
    "# is downsampled less. In the limit, c will perform no downsampling.\n",
    "def downsample(points, labels, c=1.0):\n",
    "    pos_mask = labels == 1\n",
    "    neg_mask = labels == 0\n",
    "\n",
    "    pos_count = np.sum(pos_mask)\n",
    "    neg_count = np.sum(neg_mask)\n",
    "    \n",
    "    # Note: If values are inequal, gauranteed that one of the\n",
    "    # following ratios will be 1.0 after clipping, which means\n",
    "    # that the minority class won't get downsampled.\n",
    "    neg_to_pos = min(1.0, neg_count / float(pos_count)) ** (1/c)\n",
    "    pos_to_neg = min(1.0, pos_count / float(neg_count)) ** (1/c)\n",
    "    \n",
    "    m = labels.shape[0]\n",
    "    random_values = np.random.rand(m)\n",
    "    \n",
    "    pos_keep_mask = (random_values < neg_to_pos) * pos_mask\n",
    "    neg_keep_mask = (random_values < pos_to_neg) * neg_mask\n",
    "    \n",
    "    keep_mask = pos_keep_mask + neg_keep_mask\n",
    "    \n",
    "    return (points[keep_mask, :], labels[keep_mask])\n",
    "    "
   ]
  },
  {
   "cell_type": "code",
   "execution_count": 90,
   "metadata": {},
   "outputs": [],
   "source": [
    "def normalizer(X0):\n",
    "    \"\"\"\n",
    "    Generates a normalize function, which can be attached to a model.\n",
    "    The normalization parameters are based on the training data. The model\n",
    "    will automatically do the work of normalizing the data before it is\n",
    "    fed into the network.\n",
    "    \n",
    "    X0 - The data used to normalize values. The data is of shape d x m, where\n",
    "         d is the number of features and m is the number of samples.\n",
    "    \"\"\"\n",
    "    \n",
    "    m = X0.shape[0]\n",
    "    mean = np.sum(X0, axis=0).reshape(1, -1) / m\n",
    "    variance = np.sum(X0 * X0, axis=0).reshape(1, -1) / m\n",
    "    std = np.sqrt(variance)\n",
    "\n",
    "    def normalize(X):\n",
    "        return (X - mean) / std\n",
    "\n",
    "    return normalize\n",
    "  "
   ]
  },
  {
   "cell_type": "code",
   "execution_count": 91,
   "metadata": {},
   "outputs": [],
   "source": [
    "num_points = 200\n",
    "\n",
    "gauss_func = create_gaussian_curve(0.0, 0.05)\n",
    "points = np.random.rand(num_points, 2) * 4 - 2\n",
    "labels = np.apply_along_axis(lambda x: gauss_func(x[0], x[1]), axis=1, arr=points)\n"
   ]
  },
  {
   "cell_type": "code",
   "execution_count": 92,
   "metadata": {},
   "outputs": [
    {
     "data": {
      "image/png": "[encoded data removed]",
      "text/plain": [
       "<Figure size 432x288 with 1 Axes>"
      ]
     },
     "metadata": {
      "needs_background": "light"
     },
     "output_type": "display_data"
    }
   ],
   "source": [
    "# Let's make a plot to see where the curve is being drawn.\n",
    "# We will look at the first 5,000 points.\n",
    "\n",
    "for i in range(min(5000, num_points)):\n",
    "    point = points[i, :]\n",
    "    label = labels[i]\n",
    "    plt.plot(point[0], point[1], 'go' if label == 1 else 'ro')\n",
    "\n",
    "plt.show()"
   ]
  },
  {
   "cell_type": "code",
   "execution_count": 93,
   "metadata": {},
   "outputs": [],
   "source": [
    "# Downsample and normalize points\n",
    "points, labels = downsample(points, labels, c=2)\n",
    "normalize = normalizer(points)\n",
    "\n",
    "points = normalize(points)\n"
   ]
  },
  {
   "cell_type": "code",
   "execution_count": 94,
   "metadata": {},
   "outputs": [],
   "source": [
    "# Split model into train / test sets.\n",
    "\n",
    "m = points.shape[0]\n",
    "\n",
    "random_assignment = np.random.rand(m)\n",
    "train_mask = random_assignment <= 0.9\n",
    "test_mask = (random_assignment > 0.9)\n",
    "\n",
    "train_data = points[train_mask, :]\n",
    "train_labels = labels[train_mask]\n",
    "\n",
    "test_data = points[test_mask, :]\n",
    "test_labels = labels[test_mask]\n"
   ]
  },
  {
   "cell_type": "code",
   "execution_count": 95,
   "metadata": {},
   "outputs": [],
   "source": [
    "# Convert to Tensors\n",
    "\n",
    "train_data = torch.FloatTensor(train_data)\n",
    "train_labels = torch.FloatTensor(train_labels)\n",
    "\n",
    "test_data = torch.FloatTensor(test_data)\n",
    "test_labels = torch.FloatTensor(test_labels)\n"
   ]
  },
  {
   "cell_type": "code",
   "execution_count": 96,
   "metadata": {},
   "outputs": [],
   "source": [
    "# Create Data Loader\n",
    "\n",
    "train_set = TensorDataset(train_data, train_labels)\n",
    "train_loader = DataLoader(train_set, batch_size=1000)\n",
    "\n",
    "test_set = TensorDataset(test_data, test_labels)\n",
    "test_loader = DataLoader(test_set, batch_size=1000)\n"
   ]
  },
  {
   "cell_type": "markdown",
   "metadata": {},
   "source": [
    "## Define Model"
   ]
  },
  {
   "cell_type": "code",
   "execution_count": 97,
   "metadata": {},
   "outputs": [],
   "source": [
    "class Model(nn.Module):\n",
    "    \n",
    "    def __init__(self, layer_sizes):\n",
    "        super(Model, self).__init__()\n",
    "\n",
    "        INPUT_SIZE = 2\n",
    "        OUTPUT_SIZE = 1\n",
    "        \n",
    "        sizes = [INPUT_SIZE] + layer_sizes + [OUTPUT_SIZE]\n",
    "        size_pairs = [(sizes[i-1], sizes[i]) for i in range(1, len(sizes))]\n",
    "\n",
    "        self.linears = nn.ModuleList([nn.Linear(i, o) for i, o in size_pairs])\n",
    "    \n",
    "    def forward(self, X):\n",
    "        for i, layer in enumerate(self.linears):\n",
    "            if i != 0:\n",
    "                X = F.relu(X)\n",
    "\n",
    "            X = layer(X)\n",
    "            \n",
    "        X = torch.sigmoid(X)\n",
    "\n",
    "        return X\n"
   ]
  },
  {
   "cell_type": "markdown",
   "metadata": {},
   "source": [
    "## Train Model"
   ]
  },
  {
   "cell_type": "code",
   "execution_count": 105,
   "metadata": {},
   "outputs": [],
   "source": [
    "def create_and_train_model(layer_sizes, lr, epochs=1000, logs=True):\n",
    "    model = Model(layer_sizes=[5, 4])\n",
    "    criterion = nn.BCELoss()\n",
    "    optimizer = torch.optim.Adam(model.parameters(), lr=lr)\n",
    "\n",
    "    for i in range(epochs):\n",
    "\n",
    "        total_loss = 0\n",
    "\n",
    "        for batch in train_loader:\n",
    "            inputs, expected = batch\n",
    "\n",
    "            optimizer.zero_grad()\n",
    "            outputs = model(inputs)\n",
    "\n",
    "            loss = criterion(outputs, expected.reshape(-1, 1))\n",
    "            loss.backward()\n",
    "\n",
    "            optimizer.step()\n",
    "\n",
    "            total_loss += loss.item()\n",
    "\n",
    "        if i % 50 == 0:\n",
    "            print(f'Epoch {i + 1}, Loss: {total_loss:.02f}')\n",
    "    \n",
    "    return model\n"
   ]
  },
  {
   "cell_type": "code",
   "execution_count": 107,
   "metadata": {},
   "outputs": [],
   "source": [
    "hyperparams = [\n",
    "    { 'layer_sizes': [50, 20, 8],   'lr': 0.0001 },\n",
    "    { 'layer_sizes': [50, 20, 8],   'lr': 0.001 },\n",
    "    { 'layer_sizes': [50, 20, 8],   'lr': 0.01 },\n",
    "    { 'layer_sizes': [80, 50, 20],  'lr': 0.0001 },\n",
    "    { 'layer_sizes': [80, 50, 20],  'lr': 0.001 },\n",
    "    { 'layer_sizes': [80, 50, 20],  'lr': 0.01 },\n",
    "    { 'layer_sizes': [100, 60, 40], 'lr': 0.0001 },\n",
    "    { 'layer_sizes': [100, 60, 40], 'lr': 0.001 },\n",
    "    { 'layer_sizes': [100, 60, 40], 'lr': 0.01 },    \n",
    "]"
   ]
  },
  {
   "cell_type": "code",
   "execution_count": null,
   "metadata": {},
   "outputs": [],
   "source": []
  }
 ],
 "metadata": {
  "kernelspec": {
   "display_name": "Python 3",
   "language": "python",
   "name": "python3"
  },
  "language_info": {
   "codemirror_mode": {
    "name": "ipython",
    "version": 3
   },
   "file_extension": ".py",
   "mimetype": "text/x-python",
   "name": "python",
   "nbconvert_exporter": "python",
   "pygments_lexer": "ipython3",
   "version": "3.7.4"
  }
 },
 "nbformat": 4,
 "nbformat_minor": 4
}
