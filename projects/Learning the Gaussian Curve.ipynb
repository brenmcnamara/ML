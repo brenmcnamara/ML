{
 "cells": [
  {
   "cell_type": "markdown",
   "metadata": {},
   "source": [
    "# Learning the Gaussian Curve\n",
    "\n",
    "In the notebook implementing the basic back propagation algorithm from scratch, I used as an example case of learning a gaussian curve. In theory, our model should be able to learn this well since there is no noise in the model (we are learning a deterministic function).\n",
    "\n",
    "I will explore more robust approaches in deep learning to properly learn this gaussian curve. Some ideas I will try:\n",
    "\n",
    "- Use more data\n",
    "- Hyper-Parameter Testing\n",
    "  - Number and Shape of Layers in the Network\n",
    "  - Learning Rate\n",
    "- Better Training Procedure: will use the Adam Algorithm instead of SGD\n"
   ]
  },
  {
   "cell_type": "code",
   "execution_count": 63,
   "metadata": {},
   "outputs": [],
   "source": [
    "import numpy as np\n",
    "import math\n",
    "import matplotlib.pyplot as plt\n",
    "\n",
    "from random import random"
   ]
  },
  {
   "cell_type": "markdown",
   "metadata": {},
   "source": [
    "## Defining a Gaussian Curve"
   ]
  },
  {
   "cell_type": "code",
   "execution_count": 14,
   "metadata": {},
   "outputs": [],
   "source": [
    "def create_gaussian_curve(mean, variance, delta=0.2):\n",
    "    std = math.sqrt(variance)\n",
    "    normalize = 1 / (std * math.sqrt(2 * 3.14159))\n",
    "\n",
    "    def gaussian_curve(x, y):\n",
    "        term = (x - mean) / std\n",
    "        expected = normalize * np.exp(-1/2 * term * term)\n",
    "        return 1 if abs(expected - y) <= delta else 0\n",
    "    \n",
    "    return gaussian_curve\n"
   ]
  },
  {
   "cell_type": "code",
   "execution_count": 15,
   "metadata": {},
   "outputs": [],
   "source": [
    "num_points = 1000000"
   ]
  },
  {
   "cell_type": "code",
   "execution_count": 16,
   "metadata": {},
   "outputs": [],
   "source": [
    "gauss_func = create_gaussian_curve(0.0, 0.05)\n",
    "points = np.random.rand(2, num_points) * 4 - 2\n",
    "labels = np.apply_along_axis(lambda x: gauss_func(x[0], x[1]), axis=0, arr=points)\n",
    "\n",
    "random_assignment = np.random.rand(num_points)\n",
    "train_mask = random_assignment <= 0.8\n",
    "valid_mask = (random_assignment > 0.8) & (random_assignment <= 0.9)\n",
    "test_mask = random_assignment > 0.9\n",
    "\n",
    "train_data = points[:, train_mask]\n",
    "train_labels = labels[train_mask]\n",
    "\n",
    "valid_data = points[:, valid_mask]\n",
    "valid_labels = labels[valid_mask]\n",
    "\n",
    "test_data = points[:, test_mask]\n",
    "test_labels = labels[test_mask]"
   ]
  },
  {
   "cell_type": "code",
   "execution_count": 25,
   "metadata": {},
   "outputs": [
    {
     "data": {
      "image/png": "[encoded data removed]",
      "text/plain": [
       "<Figure size 432x288 with 1 Axes>"
      ]
     },
     "metadata": {
      "needs_background": "light"
     },
     "output_type": "display_data"
    }
   ],
   "source": [
    "# Let's make a plot to see where the curve is being drawn.\n",
    "# We will look at the first 5,000 points.\n",
    "\n",
    "for i in range(5000):\n",
    "    point = train_data[:, i]\n",
    "    label = train_labels[i]\n",
    "    plt.plot(point[0], point[1], 'go' if label == 1 else 'ro')\n",
    "\n",
    "plt.show()"
   ]
  },
  {
   "cell_type": "markdown",
   "metadata": {},
   "source": [
    "## Defining the Model"
   ]
  },
  {
   "cell_type": "markdown",
   "metadata": {},
   "source": [
    "### Activation Functions"
   ]
  },
  {
   "cell_type": "code",
   "execution_count": null,
   "metadata": {},
   "outputs": [],
   "source": [
    "def relu(X):\n",
    "    mask = X >= 0\n",
    "    return X * mask\n"
   ]
  },
  {
   "cell_type": "code",
   "execution_count": null,
   "metadata": {},
   "outputs": [],
   "source": [
    "def relu_deriv(X):\n",
    "    return (X >= 0).astype(float)\n"
   ]
  },
  {
   "cell_type": "code",
   "execution_count": null,
   "metadata": {},
   "outputs": [],
   "source": [
    "def sigmoid(X):\n",
    "    return 1. / (1 + np.exp(-X))\n"
   ]
  },
  {
   "cell_type": "code",
   "execution_count": null,
   "metadata": {},
   "outputs": [],
   "source": [
    "def sigmoid_deriv(X):\n",
    "    sig = sigmoid(X)\n",
    "    return sig * (1 - sig)\n"
   ]
  },
  {
   "cell_type": "markdown",
   "metadata": {},
   "source": [
    "### Loss Functions"
   ]
  },
  {
   "cell_type": "code",
   "execution_count": null,
   "metadata": {},
   "outputs": [],
   "source": [
    "def binary_cross_entropy_loss(output, expected):\n",
    "    # Note that this function will throw errors if any of the output\n",
    "    # values are 0 or 1 exactly.\n",
    "    m = output.shape[1]\n",
    "\n",
    "    # Offset the output if there are any values exactly equal to\n",
    "    # zero or one to avoid log(0).\n",
    "    zero_correct = (output == 0).astype(float) * 1e-10 \n",
    "    one_correct = (output == 1).astype(float) * (-1e-10)\n",
    "    output = output + zero_correct + one_correct\n",
    "\n",
    "    return np.sum((expected * -np.log(output)) + (1 - expected) * -np.log(1 - output)) / m\n"
   ]
  },
  {
   "cell_type": "code",
   "execution_count": null,
   "metadata": {},
   "outputs": [],
   "source": [
    "def binary_cross_entropy_loss_grad(output, expected):\n",
    "    # Note that this function will throw errors if any output is 0.\n",
    "    m = output.shape[1]\n",
    "    return (1. / m) * ((expected / output) - (1 - expected) / (1 - output))\n"
   ]
  },
  {
   "cell_type": "markdown",
   "metadata": {},
   "source": [
    "### Random Initialization"
   ]
  },
  {
   "cell_type": "code",
   "execution_count": 20,
   "metadata": {},
   "outputs": [],
   "source": [
    "# Note: When initializing the layers, we will assume that the output\n",
    "# layer is always a single output through a sigmoid activation.\n",
    "def xavier_initialization(input_size, layer_sizes):\n",
    "    layers = []\n",
    "    \n",
    "    prev_layer_size = input_size\n",
    "\n",
    "    for size in layer_sizes:\n",
    "        normalize = 1. / math.sqrt(prev_layer_size)\n",
    "        weights = np.random.randn(size, prev_layer_size) * normalize\n",
    "        biases = np.random.randn(size, 1) * normalize\n",
    "        layers.append((weights, biases))\n",
    "\n",
    "        prev_layer_size = size\n",
    "        \n",
    "    # Add a final output layer for sigmoid activation.\n",
    "    weights = np.random.randn(1, prev_layer_size)\n",
    "    biases = np.random.randn(1, 1)\n",
    "    layers.append((weights, biases))\n",
    "    \n",
    "    return layers\n"
   ]
  },
  {
   "cell_type": "markdown",
   "metadata": {},
   "source": [
    "### Model Functions"
   ]
  },
  {
   "cell_type": "code",
   "execution_count": 21,
   "metadata": {},
   "outputs": [],
   "source": [
    "def forward(model, X):\n",
    "    Y = X\n",
    "\n",
    "    linear_outputs = []\n",
    "    outputs = []\n",
    "\n",
    "    for (i, (weights, biases)) in enumerate(model['layers'][0:-1]):\n",
    "        Y = np.dot(weights, Y) + biases\n",
    "        linear_outputs.append(Y)\n",
    "\n",
    "        Y = relu(Y)\n",
    "        outputs.append(Y)\n",
    "        \n",
    "\n",
    "    # Note: Last layer is processed by sigmoid activation.\n",
    "    weights, biases = model['layers'][-1]\n",
    "\n",
    "    Y = np.dot(weights, Y) + biases\n",
    "    linear_outputs.append(Y)\n",
    "\n",
    "    Y = sigmoid(Y)\n",
    "    outputs.append(Y)\n",
    "\n",
    "    # Save the results of the forward pass so we can do a backward\n",
    "    # pass on them later.\n",
    "    if 'no_grad' not in model or not model['no_grad']:\n",
    "        model['linear_outputs'] = linear_outputs\n",
    "        model['input'] = X\n",
    "        model['outputs'] = outputs\n",
    "        model['result'] = Y\n",
    "\n",
    "    return Y\n",
    " "
   ]
  },
  {
   "cell_type": "code",
   "execution_count": 22,
   "metadata": {},
   "outputs": [],
   "source": [
    "def backward(model, expected):\n",
    "    # Note: We are assuming the model has already gone through a\n",
    "    # forward pass.\n",
    "\n",
    "    layers = model['layers']\n",
    "    linear_outputs = model['linear_outputs']\n",
    "    outputs = model['outputs']\n",
    "    X = model['input']\n",
    "    result = model['result']\n",
    "\n",
    "    L = len(layers)\n",
    "    m = result.shape[1] # Number of samples.\n",
    "\n",
    "    # Note: We can have multiple samples in the outputs, so we\n",
    "    # will end up with a gradient per sample.\n",
    "    output_prev_layer = X if len(outputs) <= 1 else outputs[-2]\n",
    "    loss_grad = binary_cross_entropy_loss_grad(result, expected)\n",
    "    error_last_layer = loss_grad * sigmoid_deriv(linear_outputs[-1])\n",
    "    bias_grad_last_layer = np.sum(error_last_layer, axis=1).reshape(-1, 1)\n",
    "    weights_grad_last_layer = np.dot(error_last_layer, output_prev_layer.T) # outer product\n",
    "    grad_last_layer = (weights_grad_last_layer, bias_grad_last_layer)\n",
    "\n",
    "    errors = [error_last_layer]\n",
    "    grads = [grad_last_layer]\n",
    "    \n",
    "    # Enumerate layers in reverse order to compute errors\n",
    "    # and gradients.\n",
    "    for i in range(L - 2, -1, -1):\n",
    "        linear_output = linear_outputs[i]\n",
    "        output_prev_layer = X if i == 0 else outputs[i-1]\n",
    "        error_next_layer = errors[-1]\n",
    "        weights_next_layer, bias_next_layer = layers[i+1]\n",
    "\n",
    "        error = np.dot(weights_next_layer.T, error_next_layer) * sigmoid_deriv(linear_output)\n",
    "        bias_grad = np.sum(error, axis=1).reshape(-1, 1)\n",
    "        weights_grad = np.dot(error, output_prev_layer.T)\n",
    "        \n",
    "        errors.append(error)\n",
    "        grads.append((weights_grad, bias_grad))\n",
    "        \n",
    "    # Reverse the order of errors and gradients so they go from\n",
    "    # first layer to last.\n",
    "    errors.reverse()\n",
    "    grads.reverse()\n",
    "    \n",
    "    if 'no_grad' not in model or not model['no_grad']:\n",
    "        model['errors'] = errors\n",
    "        model['grads'] = grads\n",
    "    \n",
    "    return grads, errors\n"
   ]
  },
  {
   "cell_type": "code",
   "execution_count": 23,
   "metadata": {},
   "outputs": [],
   "source": [
    "def no_grad(model):\n",
    "    model['no_grad'] = True\n"
   ]
  },
  {
   "cell_type": "code",
   "execution_count": 24,
   "metadata": {},
   "outputs": [],
   "source": [
    "def grad(model):\n",
    "    model['no_grad'] = False\n"
   ]
  },
  {
   "cell_type": "markdown",
   "metadata": {},
   "source": [
    "### Gradient Update"
   ]
  },
  {
   "cell_type": "code",
   "execution_count": 26,
   "metadata": {},
   "outputs": [],
   "source": [
    "def step_SGD(model, lr=0.1):\n",
    "    # Note: We are assuming the model has already gone\n",
    "    # through back propagation and all the gradients have\n",
    "    # been calculated.\n",
    "    \n",
    "    new_layers = []\n",
    "\n",
    "    for (i, layer) in enumerate(model['layers']):\n",
    "        weight, bias = layer\n",
    "        grad_weight, grad_bias = model['grads'][i]\n",
    "        \n",
    "        weight = weight + (lr * grad_weight)\n",
    "        bias = bias + (lr * grad_bias)\n",
    "\n",
    "        model['layers'][i] = (weight, bias)\n"
   ]
  },
  {
   "cell_type": "code",
   "execution_count": 27,
   "metadata": {},
   "outputs": [],
   "source": [
    "def step_Adam(model, lr=0.1):\n",
    "    pass\n",
    "    # TODO: HERE I AM! NEED TO DEFINE ADAM OPTIMIZER!\n"
   ]
  },
  {
   "cell_type": "markdown",
   "metadata": {},
   "source": [
    "## Creating and Training Model"
   ]
  },
  {
   "cell_type": "code",
   "execution_count": 30,
   "metadata": {},
   "outputs": [],
   "source": [
    "def create_model(layers, learning_rate):\n",
    "    pass"
   ]
  },
  {
   "cell_type": "code",
   "execution_count": 29,
   "metadata": {},
   "outputs": [],
   "source": [
    "def train_model(train_data, train_labels, epochs=1000, logs=True):\n",
    "    pass"
   ]
  },
  {
   "cell_type": "markdown",
   "metadata": {},
   "source": [
    "### Defining Hyper Parameters"
   ]
  },
  {
   "cell_type": "code",
   "execution_count": 67,
   "metadata": {},
   "outputs": [],
   "source": [
    "learning_rates = np.logspace(-1, -6, num=5)\n",
    "\n",
    "layer_sizes_list = [\n",
    "    [4],\n",
    "    [3],\n",
    "    [4, 3],\n",
    "    [3, 4],\n",
    "    [6, 4],\n",
    "    [4, 6],\n",
    "    [6, 4, 3],\n",
    "    [3, 4, 6],\n",
    "]\n"
   ]
  },
  {
   "cell_type": "markdown",
   "metadata": {},
   "source": [
    "We currently have 40 unique combinations of hyper parameters, which is too much. We will randomly sample 10 of those 40 hyper parameter settings to try out."
   ]
  },
  {
   "cell_type": "code",
   "execution_count": 68,
   "metadata": {},
   "outputs": [],
   "source": [
    "import random"
   ]
  },
  {
   "cell_type": "code",
   "execution_count": 73,
   "metadata": {},
   "outputs": [
    {
     "data": {
      "text/plain": [
       "[{'lr': 1.778279410038923e-05, 'layer_sizes': [3, 4, 6]},\n",
       " {'lr': 1.778279410038923e-05, 'layer_sizes': [3, 4, 6]},\n",
       " {'lr': 0.00031622776601683794, 'layer_sizes': [6, 4]},\n",
       " {'lr': 0.005623413251903491, 'layer_sizes': [4]},\n",
       " {'lr': 1.778279410038923e-05, 'layer_sizes': [3, 4]},\n",
       " {'lr': 0.1, 'layer_sizes': [4, 6]},\n",
       " {'lr': 0.005623413251903491, 'layer_sizes': [4, 6]},\n",
       " {'lr': 1.778279410038923e-05, 'layer_sizes': [4, 6]},\n",
       " {'lr': 1e-06, 'layer_sizes': [4, 3]},\n",
       " {'lr': 0.1, 'layer_sizes': [4]}]"
      ]
     },
     "execution_count": 73,
     "metadata": {},
     "output_type": "execute_result"
    }
   ],
   "source": [
    "# Note that it is possible we could end up testing the same hyper parameter settings\n",
    "# multiple times. We won't correct for this.\n",
    "\n",
    "hyperparams = []\n",
    "\n",
    "for i in range(10):\n",
    "    lr = learning_rates[int(math.floor(len(learning_rates) * random.random()))]\n",
    "    layer_sizes = layer_sizes_list[int(math.floor(len(layer_sizes_list) * random.random()))]\n",
    "    hyperparams.append({'lr': lr, 'layer_sizes': layer_sizes})\n"
   ]
  },
  {
   "cell_type": "code",
   "execution_count": null,
   "metadata": {},
   "outputs": [],
   "source": []
  }
 ],
 "metadata": {
  "kernelspec": {
   "display_name": "Python 3",
   "language": "python",
   "name": "python3"
  },
  "language_info": {
   "codemirror_mode": {
    "name": "ipython",
    "version": 3
   },
   "file_extension": ".py",
   "mimetype": "text/x-python",
   "name": "python",
   "nbconvert_exporter": "python",
   "pygments_lexer": "ipython3",
   "version": "3.7.4"
  }
 },
 "nbformat": 4,
 "nbformat_minor": 4
}
