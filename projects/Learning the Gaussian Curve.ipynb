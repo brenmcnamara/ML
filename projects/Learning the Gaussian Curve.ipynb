{
 "cells": [
  {
   "cell_type": "markdown",
   "metadata": {},
   "source": [
    "# Learning the Gaussian Curve\n",
    "\n",
    "In the notebook implementing the basic back propagation algorithm from scratch, I used as an example case of learning a gaussian curve. In theory, our model should be able to learn this well since there is no noise in the model (we are learning a deterministic function).\n",
    "\n",
    "I will explore more robust approaches in deep learning to properly learn this gaussian curve. Some ideas I will try:\n",
    "\n",
    "- Use more data\n",
    "- Hyper-Parameter Testing\n",
    "  - Number and Shape of Layers in the Network\n",
    "  - Learning Rate\n",
    "- Better Training Procedure: will use the Adam Algorithm instead of SGD\n"
   ]
  },
  {
   "cell_type": "code",
   "execution_count": 1,
   "metadata": {},
   "outputs": [],
   "source": [
    "import numpy as np\n",
    "import math\n",
    "import matplotlib.pyplot as plt\n",
    "\n",
    "from random import random\n",
    "from time import time"
   ]
  },
  {
   "cell_type": "markdown",
   "metadata": {},
   "source": [
    "## Defining a Gaussian Curve"
   ]
  },
  {
   "cell_type": "code",
   "execution_count": 2,
   "metadata": {},
   "outputs": [],
   "source": [
    "def create_gaussian_curve(mean, variance, delta=0.2):\n",
    "    std = math.sqrt(variance)\n",
    "    normalize = 1 / (std * math.sqrt(2 * 3.14159))\n",
    "\n",
    "    def gaussian_curve(x, y):\n",
    "        term = (x - mean) / std\n",
    "        expected = normalize * np.exp(-1/2 * term * term)\n",
    "        return 1 if abs(expected - y) <= delta else 0\n",
    "    \n",
    "    return gaussian_curve\n"
   ]
  },
  {
   "cell_type": "code",
   "execution_count": 3,
   "metadata": {},
   "outputs": [],
   "source": [
    "num_points = 1000000"
   ]
  },
  {
   "cell_type": "code",
   "execution_count": 4,
   "metadata": {},
   "outputs": [],
   "source": [
    "gauss_func = create_gaussian_curve(0.0, 0.05)\n",
    "points = np.random.rand(2, num_points) * 4 - 2\n",
    "labels = np.apply_along_axis(lambda x: gauss_func(x[0], x[1]), axis=0, arr=points)\n",
    "\n",
    "random_assignment = np.random.rand(num_points)\n",
    "train_mask = random_assignment <= 0.8\n",
    "valid_mask = (random_assignment > 0.8) & (random_assignment <= 0.9)\n",
    "test_mask = random_assignment > 0.9\n",
    "\n",
    "train_data = points[:, train_mask]\n",
    "train_labels = labels[train_mask]\n",
    "\n",
    "valid_data = points[:, valid_mask]\n",
    "valid_labels = labels[valid_mask]\n",
    "\n",
    "test_data = points[:, test_mask]\n",
    "test_labels = labels[test_mask]"
   ]
  },
  {
   "cell_type": "code",
   "execution_count": 5,
   "metadata": {},
   "outputs": [
    {
     "data": {
      "image/png": "[encoded data removed]",
      "text/plain": [
       "<Figure size 432x288 with 1 Axes>"
      ]
     },
     "metadata": {
      "needs_background": "light"
     },
     "output_type": "display_data"
    }
   ],
   "source": [
    "# Let's make a plot to see where the curve is being drawn.\n",
    "# We will look at the first 5,000 points.\n",
    "\n",
    "for i in range(5000):\n",
    "    point = train_data[:, i]\n",
    "    label = train_labels[i]\n",
    "    plt.plot(point[0], point[1], 'go' if label == 1 else 'ro')\n",
    "\n",
    "plt.show()"
   ]
  },
  {
   "cell_type": "markdown",
   "metadata": {},
   "source": [
    "## Defining the Model"
   ]
  },
  {
   "cell_type": "markdown",
   "metadata": {},
   "source": [
    "### Activation Functions"
   ]
  },
  {
   "cell_type": "code",
   "execution_count": 6,
   "metadata": {},
   "outputs": [],
   "source": [
    "def relu(X):\n",
    "    mask = X >= 0\n",
    "    return X * mask\n"
   ]
  },
  {
   "cell_type": "code",
   "execution_count": 7,
   "metadata": {},
   "outputs": [],
   "source": [
    "def relu_deriv(X):\n",
    "    return (X >= 0).astype(float)\n"
   ]
  },
  {
   "cell_type": "code",
   "execution_count": 8,
   "metadata": {},
   "outputs": [],
   "source": [
    "def sigmoid(X):\n",
    "    return 1. / (1 + np.exp(-X))\n"
   ]
  },
  {
   "cell_type": "code",
   "execution_count": 9,
   "metadata": {},
   "outputs": [],
   "source": [
    "def sigmoid_deriv(X):\n",
    "    sig = sigmoid(X)\n",
    "    return sig * (1 - sig)\n"
   ]
  },
  {
   "cell_type": "markdown",
   "metadata": {},
   "source": [
    "### Loss Functions"
   ]
  },
  {
   "cell_type": "code",
   "execution_count": 10,
   "metadata": {},
   "outputs": [],
   "source": [
    "def binary_cross_entropy_loss(output, expected):\n",
    "    m = output.shape[1]\n",
    "\n",
    "    # Offset the output if there are any values exactly equal to\n",
    "    # zero or one to avoid log(0).\n",
    "    zero_correct = (output == 0).astype(float) * 1e-10 \n",
    "    one_correct = (output == 1).astype(float) * (-1e-10)\n",
    "    output = output + zero_correct + one_correct\n",
    "\n",
    "    return np.sum((expected * -np.log(output)) + (1 - expected) * -np.log(1 - output)) / m\n"
   ]
  },
  {
   "cell_type": "code",
   "execution_count": 11,
   "metadata": {},
   "outputs": [],
   "source": [
    "def binary_cross_entropy_loss_grad(output, expected):\n",
    "\n",
    "    m = output.shape[1]\n",
    "    \n",
    "    # Want to avoid divide by 0.\n",
    "    epsilon = 1e-10\n",
    "    zero_correct = (output == 0.0).astype(float) * epsilon\n",
    "    one_correct = (output == 1.0).astype(float) * -epsilon\n",
    "    output = output + zero_correct + one_correct\n",
    "    \n",
    "    return (1. / m) * ((expected / output) - (1 - expected) / (1 - output))\n"
   ]
  },
  {
   "cell_type": "markdown",
   "metadata": {},
   "source": [
    "### Random Initialization"
   ]
  },
  {
   "cell_type": "code",
   "execution_count": 12,
   "metadata": {},
   "outputs": [],
   "source": [
    "# Note: When initializing the layers, we will assume that the output\n",
    "# layer is always a single output through a sigmoid activation.\n",
    "def xavier_initialization(input_size, layer_sizes):\n",
    "    layers = []\n",
    "    \n",
    "    prev_layer_size = input_size\n",
    "\n",
    "    for size in layer_sizes:\n",
    "        normalize = 1. / math.sqrt(prev_layer_size)\n",
    "        weights = np.random.randn(size, prev_layer_size) * normalize\n",
    "        biases = np.random.randn(size, 1) * normalize\n",
    "        layers.append((weights, biases))\n",
    "\n",
    "        prev_layer_size = size\n",
    "        \n",
    "    # Add a final output layer for sigmoid activation.\n",
    "    weights = np.random.randn(1, prev_layer_size)\n",
    "    biases = np.random.randn(1, 1)\n",
    "    layers.append((weights, biases))\n",
    "    \n",
    "    return layers\n"
   ]
  },
  {
   "cell_type": "markdown",
   "metadata": {},
   "source": [
    "### Model Functions"
   ]
  },
  {
   "cell_type": "code",
   "execution_count": 13,
   "metadata": {},
   "outputs": [],
   "source": [
    "def forward(model, X):\n",
    "    Y = X\n",
    "\n",
    "    linear_outputs = []\n",
    "    outputs = []\n",
    "\n",
    "    for (i, (weights, biases)) in enumerate(model['layers'][0:-1]):\n",
    "        Y = np.dot(weights, Y) + biases\n",
    "        linear_outputs.append(Y)\n",
    "\n",
    "        Y = relu(Y)\n",
    "        outputs.append(Y)\n",
    "        \n",
    "\n",
    "    # Note: Last layer is processed by sigmoid activation.\n",
    "    weights, biases = model['layers'][-1]\n",
    "\n",
    "    Y = np.dot(weights, Y) + biases\n",
    "    linear_outputs.append(Y)\n",
    "\n",
    "    Y = sigmoid(Y)\n",
    "    outputs.append(Y)\n",
    "\n",
    "    # Save the results of the forward pass so we can do a backward\n",
    "    # pass on them later.\n",
    "    if 'no_grad_check' not in model or not model['no_grad_check']:\n",
    "        model['linear_outputs'] = linear_outputs\n",
    "        model['input'] = X\n",
    "        model['outputs'] = outputs\n",
    "        model['result'] = Y\n",
    "\n",
    "    return Y\n",
    " "
   ]
  },
  {
   "cell_type": "code",
   "execution_count": 47,
   "metadata": {},
   "outputs": [],
   "source": [
    "def backward(model, expected):\n",
    "    # Note: We are assuming the model has already gone through a\n",
    "    # forward pass.\n",
    "\n",
    "    layers = model['layers']\n",
    "    linear_outputs = model['linear_outputs']\n",
    "    outputs = model['outputs']\n",
    "    X = model['input']\n",
    "    result = model['result']\n",
    "\n",
    "    L = len(layers)\n",
    "    m = result.shape[1] # Number of samples.\n",
    "\n",
    "    # Note: We can have multiple samples in the outputs, so we\n",
    "    # will end up with a gradient per sample.\n",
    "    output_prev_layer = X if len(outputs) <= 1 else outputs[-2]\n",
    "    loss_grad = binary_cross_entropy_loss_grad(result, expected)\n",
    "    error_last_layer = loss_grad * sigmoid_deriv(linear_outputs[-1])\n",
    "    bias_grad_last_layer = np.sum(error_last_layer, axis=1).reshape(-1, 1) / m\n",
    "    weights_grad_last_layer = np.dot(error_last_layer, output_prev_layer.T) / m # outer product\n",
    "    grad_last_layer = (weights_grad_last_layer, bias_grad_last_layer)\n",
    "\n",
    "    errors = [error_last_layer]\n",
    "    grads = [grad_last_layer]\n",
    "\n",
    "    # Enumerate layers in reverse order to compute errors\n",
    "    # and gradients.\n",
    "    for i in range(L - 2, -1, -1):\n",
    "        linear_output = linear_outputs[i]\n",
    "        output_prev_layer = X if i == 0 else outputs[i-1]\n",
    "        error_next_layer = errors[-1]\n",
    "        weights_next_layer, bias_next_layer = layers[i+1]\n",
    "\n",
    "        error = np.dot(weights_next_layer.T, error_next_layer) * sigmoid_deriv(linear_output)\n",
    "        bias_grad = np.sum(error, axis=1).reshape(-1, 1) / m\n",
    "        weights_grad = np.dot(error, output_prev_layer.T) / m\n",
    "        \n",
    "        errors.append(error)\n",
    "        grads.append((weights_grad, bias_grad))\n",
    "        \n",
    "    # Reverse the order of errors and gradients so they go from\n",
    "    # first layer to last.\n",
    "    errors.reverse()\n",
    "    grads.reverse()\n",
    "    \n",
    "    if 'no_grad_check' not in model or not model['no_grad_check']:\n",
    "        model['errors'] = errors\n",
    "        model['grads'] = grads\n",
    "    \n",
    "    return grads, errors\n"
   ]
  },
  {
   "cell_type": "code",
   "execution_count": 48,
   "metadata": {},
   "outputs": [],
   "source": [
    "def gradient_clipping(model, threshold=1.0):\n",
    "    \"\"\"\n",
    "    Returns True if the gradient was clipped, False otherwise.\n",
    "    \"\"\"\n",
    "    l2_norm = 0\n",
    "\n",
    "    for grad in model['grads']:\n",
    "        grad_weight, grad_bias = grad\n",
    "        l2_norm += np.sum(grad_weight * grad_weight)\n",
    "        l2_norm += np.sum(grad_bias * grad_bias)\n",
    "        \n",
    "    l2_norm = math.sqrt(l2_norm)\n",
    "\n",
    "    if l2_norm <= threshold:\n",
    "        return False\n",
    "\n",
    "    for (i, grad) in enumerate(model['grads']):\n",
    "        grad_weight, grad_bias = grad\n",
    "\n",
    "        grad_weight = grad_weight * threshold / l2_norm\n",
    "        grad_bias = grad_bias * threshold / l2_norm\n",
    "\n",
    "        model['grads'][i] = (grad_weight, grad_bias)\n",
    "        \n",
    "    return True\n",
    "    \n",
    "    "
   ]
  },
  {
   "cell_type": "code",
   "execution_count": 49,
   "metadata": {},
   "outputs": [],
   "source": [
    "def no_grad_check(model):\n",
    "    model['no_grad_check'] = True\n"
   ]
  },
  {
   "cell_type": "code",
   "execution_count": 50,
   "metadata": {},
   "outputs": [],
   "source": [
    "def grad_check(model):\n",
    "    model['no_grad_check'] = False\n"
   ]
  },
  {
   "cell_type": "markdown",
   "metadata": {},
   "source": [
    "### Gradient Update"
   ]
  },
  {
   "cell_type": "code",
   "execution_count": 51,
   "metadata": {},
   "outputs": [],
   "source": [
    "def step_SGD(model, lr=0.1):\n",
    "    # Note: We are assuming the model has already gone\n",
    "    # through back propagation and all the gradients have\n",
    "    # been calculated.\n",
    "    \n",
    "    new_layers = []\n",
    "\n",
    "    for (i, layer) in enumerate(model['layers']):\n",
    "        weight, bias = layer\n",
    "        grad_weight, grad_bias = model['grads'][i]\n",
    "        \n",
    "        weight = weight + (lr * grad_weight)\n",
    "        bias = bias + (lr * grad_bias)\n",
    "\n",
    "        model['layers'][i] = (weight, bias)\n"
   ]
  },
  {
   "cell_type": "code",
   "execution_count": 52,
   "metadata": {},
   "outputs": [],
   "source": [
    "def reset_Adam(model):\n",
    "    # We keep track of exponential moving averages of our\n",
    "    # Adam optimization algorithm, cached in the model.\n",
    "    # If we are starting to train from scratch, we need\n",
    "    # to know to set these averages to 0.\n",
    "    mt = []\n",
    "    vt = []\n",
    "\n",
    "    for (i, layers) in enumerate(model['layers']):\n",
    "        weight, bias = layers\n",
    "        mt.append((np.zeros_like(weight), np.zeros_like(bias)))\n",
    "        vt.append((np.zeros_like(weight), np.zeros_like(bias)))\n",
    "        \n",
    "    model['mt'] = mt\n",
    "    model['vt'] = vt\n",
    "    model['t'] = 0\n"
   ]
  },
  {
   "cell_type": "code",
   "execution_count": 53,
   "metadata": {},
   "outputs": [],
   "source": [
    "def step_Adam(model, lr, beta_1=0.9, beta_2=0.999, epsilon=1e-30):\n",
    "    # Note: We are assuming the model has already gone through\n",
    "    # back propagation and all the gradients have been calculated.\n",
    "    \n",
    "    t = model['t'] + 1\n",
    "\n",
    "    one_minus_beta_1 = 1 - beta_1\n",
    "    one_minus_beta_2 = 1 - beta_2\n",
    "\n",
    "    one_minus_beta_1t = 1 - math.pow(beta_1, t)\n",
    "    one_minus_beta_2t = 1 - math.pow(beta_2, t)\n",
    "\n",
    "    for (i, layer) in enumerate(model['layers']):\n",
    "        weight, bias = layer\n",
    "        grad_weight, grad_bias = model['grads'][i]\n",
    "\n",
    "        mt_minus_1_weight, mt_minus_1_bias = model['mt'][i]\n",
    "        vt_minus_1_weight, vt_minus_1_bias = model['vt'][i]\n",
    "        \n",
    "        # Calculating exponentially moving averages.\n",
    "        mt_weight = beta_1 * mt_minus_1_weight + one_minus_beta_1 * grad_weight\n",
    "        mt_bias = beta_1 * mt_minus_1_bias + one_minus_beta_1 * grad_bias\n",
    "        \n",
    "        vt_weight = beta_2 * vt_minus_1_weight + one_minus_beta_2 * grad_weight * grad_weight\n",
    "        vt_bias = beta_2 * vt_minus_1_bias + one_minus_beta_2 * grad_bias * grad_bias\n",
    "\n",
    "        # Bias correction of our moving averages.\n",
    "        mt_hat_weight = mt_weight / one_minus_beta_1t\n",
    "        mt_hat_bias = mt_bias / one_minus_beta_1t\n",
    "        vt_hat_weight = vt_weight / one_minus_beta_2t\n",
    "        vt_hat_bias = vt_bias / one_minus_beta_2t\n",
    "\n",
    "        # Calculate change in weights.\n",
    "        deltat_weight = mt_hat_weight / (np.sqrt(vt_hat_weight) + epsilon)\n",
    "        deltat_bias = mt_hat_bias / (np.sqrt(vt_hat_bias) + epsilon)\n",
    "        \n",
    "        # Update weights.\n",
    "        weight = weight + (lr * deltat_weight)\n",
    "        bias = bias + (lr * deltat_bias)\n",
    "\n",
    "        # Write to model.\n",
    "        model['layers'][i] = (weight, bias)\n",
    "        model['mt'][i] = (mt_weight, mt_bias)\n",
    "        model['vt'][i] = (vt_weight, vt_bias)\n",
    "\n",
    "    \n",
    "    model['t'] = t\n",
    "        \n",
    "\n"
   ]
  },
  {
   "cell_type": "markdown",
   "metadata": {},
   "source": [
    "## Defining Hyper Parameters"
   ]
  },
  {
   "cell_type": "code",
   "execution_count": 63,
   "metadata": {},
   "outputs": [],
   "source": [
    "learning_rates = np.logspace(-3, -5, num=3)\n",
    "\n",
    "layer_sizes_list = [\n",
    "    [30, 15],\n",
    "    [40, 16],\n",
    "    [20, 8, 3],\n",
    "    [35, 20, 4],\n",
    "    [40, 20, 10],\n",
    "    [50, 30, 8],\n",
    "    [60, 40, 15, 4],\n",
    "    [50, 30, 15, 8],\n",
    "]\n",
    "\n",
    "batch_sizes = [int(b) for b in np.logspace(3, 5, num=3)]\n"
   ]
  },
  {
   "cell_type": "markdown",
   "metadata": {},
   "source": [
    "We currently have 54 unique combinations of hyper parameters, which is too much to test in a reasonable amount of time. We will randomly sample 10 of those 54 hyper parameter settings to try out."
   ]
  },
  {
   "cell_type": "code",
   "execution_count": 64,
   "metadata": {},
   "outputs": [],
   "source": [
    "# Note that it is possible we could end up testing the same hyper parameter settings\n",
    "# multiple times. We won't correct for this.\n",
    "\n",
    "hyperparams = []\n",
    "\n",
    "for i in range(10):\n",
    "    lr = learning_rates[int(math.floor(len(learning_rates) * random()))]\n",
    "    layer_sizes = layer_sizes_list[int(math.floor(len(layer_sizes_list) * random()))]\n",
    "    batch_size = batch_sizes[int(math.floor(len(batch_sizes) * random()))]\n",
    "\n",
    "    hyperparams.append({'lr': lr, 'layer_sizes': layer_sizes, 'batch_size': batch_size})\n"
   ]
  },
  {
   "cell_type": "markdown",
   "metadata": {},
   "source": [
    "\n",
    "## Creating and Training Model"
   ]
  },
  {
   "cell_type": "code",
   "execution_count": 65,
   "metadata": {},
   "outputs": [],
   "source": [
    "def create_model(layer_sizes):\n",
    "    model = { 'layers': xavier_initialization(2, layer_sizes) }\n",
    "    return model\n"
   ]
  },
  {
   "cell_type": "code",
   "execution_count": 66,
   "metadata": {},
   "outputs": [],
   "source": [
    "def train_model(model, train_data, train_labels, lr, batch_size, epochs=10000, logs=True):\n",
    "\n",
    "    m = train_data.shape[1]\n",
    "\n",
    "    train_errors = []\n",
    "    grad_mags = []\n",
    "\n",
    "    reset_Adam(model)\n",
    "\n",
    "    for i in range(epochs):\n",
    "        for (batch_i, batch_start) in enumerate(range(0, m, batch_size)):\n",
    "            batch_X = train_data[:, batch_start:min(m, batch_start+batch_size)]\n",
    "            batch_Y = train_labels[batch_start:min(m, batch_start+batch_size)]\n",
    "\n",
    "            forward(model, batch_X)\n",
    "            backward(model, batch_Y)\n",
    "            gradient_clipping(model, threshold=1.0)\n",
    "            step_Adam(model, lr=lr)\n",
    "            # step_SGD(model, lr=lr)\n",
    "\n",
    "        if i % 100 == 0:\n",
    "            # Turn off gradient checking while we calculate training\n",
    "            # and test loss.\n",
    "            no_grad_check(model)\n",
    "\n",
    "            train_output = forward(model, train_data)\n",
    "            train_error = binary_cross_entropy_loss(train_output, train_labels)\n",
    "            train_errors.append(train_error)\n",
    "            \n",
    "            grad_mag = 0\n",
    "            max_grad = 0\n",
    "            min_grad = float('inf')\n",
    "\n",
    "            mean_grad = 0\n",
    "            var_grad = 0\n",
    "            n_grad = 0\n",
    "\n",
    "            # Checking the overall squared gradient magnitude to look for\n",
    "            # any issues with vanishing / exploding gradients.\n",
    "            for grad in model['grads']:\n",
    "                weight, bias = grad\n",
    "                grad_mag += np.sum(weight * weight)\n",
    "                grad_mag += np.sum(bias * bias)\n",
    "\n",
    "                max_grad = max(max_grad, np.amax(np.abs(weight)))\n",
    "                min_grad = min(min_grad, np.amin(np.abs(weight)))\n",
    "                \n",
    "                mean_grad += np.sum(weight)\n",
    "                mean_grad += np.sum(bias)\n",
    "                \n",
    "                var_grad += np.sum(weight * weight)\n",
    "                var_grad += np.sum(bias * bias)\n",
    "                \n",
    "                n_grad += np.prod(weight.shape)\n",
    "                n_grad += np.prod(bias.shape)\n",
    "\n",
    "            grad_mag = math.sqrt(grad_mag)\n",
    "            mean_grad = mean_grad / n_grad\n",
    "            var_grad = var_grad / n_grad\n",
    "            \n",
    "            grad_mags.append(grad_mag)\n",
    "             \n",
    "            if logs and i % 500 == 0:\n",
    "                print(f'Epoch {i + 1}')\n",
    "                print(f'Train Error {train_error}')\n",
    "                print(f'Grad Mag={grad_mag}, Grad Min={min_grad}, Grad Max={max_grad}')\n",
    "                print(f'Grad Mean={mean_grad}, Grad Var={var_grad}')                \n",
    "                print('')\n",
    "\n",
    "            # Turn gradient checking back on before we start a new epoch.\n",
    "            grad_check(model)\n",
    "\n",
    "    return train_errors, grad_mags\n"
   ]
  },
  {
   "cell_type": "code",
   "execution_count": null,
   "metadata": {
    "scrolled": false
   },
   "outputs": [
    {
     "name": "stdout",
     "output_type": "stream",
     "text": [
      "Training model 1 / 10\n",
      "lr=1e-05, layer_sizes=[20, 8, 3], batch_size=10000\n",
      "Epoch 1\n",
      "Train Error 1.0001606085505748\n",
      "Grad Mag=0.009180508151377026, Grad Min=0.0, Grad Max=0.005965034904209821\n",
      "Grad Mean=2.413279737568874e-05, Grad Var=3.254120846235522e-07\n",
      "\n"
     ]
    }
   ],
   "source": [
    "models = []\n",
    "valid_errors = []\n",
    "train_error_logs = []\n",
    "grad_mag_logs = []\n",
    "train_times = []\n",
    "\n",
    "data = train_data\n",
    "labels = train_labels\n",
    "\n",
    "# t_hyperparams = [\n",
    "#     {\n",
    "#         'batch_size': 1,\n",
    "#         'lr': 0.001,\n",
    "#         'layer_sizes': [50, 20, 8],\n",
    "#     },\n",
    "#     {\n",
    "#         'batch_size': 10,\n",
    "#         'lr': 0.001,\n",
    "#         'layer_sizes': [50, 20, 8],\n",
    "#     },\n",
    "#     {\n",
    "#         'batch_size': 100,\n",
    "#         'lr': 0.001,\n",
    "#         'layer_sizes': [50, 20, 8],\n",
    "#     },\n",
    "#     {\n",
    "#         'batch_size': 1000,\n",
    "#         'lr': 0.001,\n",
    "#         'layer_sizes': [50, 20, 8],\n",
    "#     },    \n",
    "# ]\n",
    "\n",
    "# For each set of hyper parameters, create and train a new model.\n",
    "# Record the trained model with the corresponding validation error.\n",
    "for (i, hyperparam) in enumerate(hyperparams):\n",
    "    print(f'Training model {i + 1} / {len(hyperparams)}')\n",
    "    print(f'lr={hyperparam[\"lr\"]}, layer_sizes={hyperparam[\"layer_sizes\"]}, batch_size={hyperparam[\"batch_size\"]}')\n",
    "\n",
    "    start_time = time()\n",
    "\n",
    "    model = create_model(hyperparam['layer_sizes'])\n",
    "\n",
    "    train_errors, grad_mags = train_model(model, data, labels, lr=hyperparam['lr'], batch_size=hyperparam['batch_size'])\n",
    "\n",
    "    no_grad_check(model)\n",
    "\n",
    "    train_error_logs.append(train_errors)\n",
    "    grad_mag_logs.append(grad_mags)\n",
    "\n",
    "    valid_output = forward(model, valid_data)\n",
    "    valid_error = binary_cross_entropy_loss(valid_output, valid_labels)\n",
    "\n",
    "    grad_check(model)\n",
    "    \n",
    "    models.append(model)\n",
    "    valid_errors.append(valid_error)\n",
    "\n",
    "    end_time = time()\n",
    "\n",
    "    print(f'Model took {(end_time - start_time) / 60:0.2f}m to train.')\n",
    "    print('\\n')\n",
    "\n"
   ]
  },
  {
   "cell_type": "code",
   "execution_count": 62,
   "metadata": {},
   "outputs": [
    {
     "data": {
      "image/png": "[encoded data removed]",
      "text/plain": [
       "<Figure size 432x288 with 1 Axes>"
      ]
     },
     "metadata": {
      "needs_background": "light"
     },
     "output_type": "display_data"
    }
   ],
   "source": [
    "for (i, model) in enumerate(models):\n",
    "    line = plt.plot(train_error_logs[i])\n",
    "\n",
    "plt.legend([1, 2, 3, 4])\n",
    "\n",
    "plt.show()"
   ]
  },
  {
   "cell_type": "code",
   "execution_count": null,
   "metadata": {},
   "outputs": [],
   "source": [
    "plt.plot(grad_mags)"
   ]
  },
  {
   "cell_type": "code",
   "execution_count": null,
   "metadata": {},
   "outputs": [],
   "source": []
  }
 ],
 "metadata": {
  "kernelspec": {
   "display_name": "Python 3",
   "language": "python",
   "name": "python3"
  },
  "language_info": {
   "codemirror_mode": {
    "name": "ipython",
    "version": 3
   },
   "file_extension": ".py",
   "mimetype": "text/x-python",
   "name": "python",
   "nbconvert_exporter": "python",
   "pygments_lexer": "ipython3",
   "version": "3.7.4"
  }
 },
 "nbformat": 4,
 "nbformat_minor": 4
}
